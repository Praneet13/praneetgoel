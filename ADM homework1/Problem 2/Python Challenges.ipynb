{
 "cells": [
  {
   "cell_type": "code",
   "execution_count": null,
   "id": "d0752d3f",
   "metadata": {},
   "outputs": [],
   "source": [
    "import math\n",
    "import os\n",
    "import random\n",
    "import re\n",
    "import sys\n"
   ]
  },
  {
   "cell_type": "markdown",
   "id": "473ff356",
   "metadata": {},
   "source": [
    "# 1. Birthday Cake Candles\n",
    "\n"
   ]
  },
  {
   "cell_type": "code",
   "execution_count": null,
   "id": "20351846",
   "metadata": {},
   "outputs": [],
   "source": [
    "#!/bin/python3\n",
    "\n",
    "#\n",
    "# Complete the 'birthdayCakeCandles' function below.\n",
    "#\n",
    "# The function is expected to return an INTEGER.\n",
    "# The function accepts INTEGER_ARRAY candles as parameter.\n",
    "#\n",
    "\n",
    "def birthdayCakeCandles(candles):\n",
    "    # Write your code here\n",
    "    count = 0\n",
    "    a = max(candles)                    #checking for max value\n",
    "    for i in range(len(candles)):\n",
    "        if a == candles[i]:         \n",
    "            count += 1                  #if repetition, count+=1\n",
    "    return count\n",
    "\n",
    "if __name__ == '__main__':\n",
    "    fptr = open(os.environ['OUTPUT_PATH'], 'w')\n",
    "    candles_count = int(input().strip())\n",
    "    candles = list(map(int, input().rstrip().split()))\n",
    "    result = birthdayCakeCandles(candles)\n",
    "    fptr.write(str(result) + '\\n')\n",
    "    fptr.close()"
   ]
  },
  {
   "cell_type": "markdown",
   "id": "fb4e2a10",
   "metadata": {},
   "source": [
    "# 2. Number Line Jumps\n",
    "\n"
   ]
  },
  {
   "cell_type": "code",
   "execution_count": null,
   "id": "97374190",
   "metadata": {},
   "outputs": [],
   "source": [
    "#!/bin/python3\n",
    "#\n",
    "# Complete the 'kangaroo' function below.\n",
    "#\n",
    "# The function is expected to return a STRING.\n",
    "# The function accepts following parameters:\n",
    "#  1. INTEGER x1\n",
    "#  2. INTEGER v1\n",
    "#  3. INTEGER x2\n",
    "#  4. INTEGER v2\n",
    "#\n",
    "\n",
    "def kangaroo(x1, v1, x2, v2):\n",
    "    # Write your code here\n",
    "    if (v1>v2) and (x1-x2)%(v2-v1) == 0:    #if proportion of distance and velocity is same, it will meet at a certain point  \n",
    "        return \"YES\"\n",
    "    else:\n",
    "        return \"NO\"\n",
    "    \n",
    "if __name__ == '__main__':\n",
    "    fptr = open(os.environ['OUTPUT_PATH'], 'w')\n",
    "    first_multiple_input = input().rstrip().split()\n",
    "    x1 = int(first_multiple_input[0])\n",
    "    v1 = int(first_multiple_input[1])\n",
    "    x2 = int(first_multiple_input[2])\n",
    "    v2 = int(first_multiple_input[3])\n",
    "    result = kangaroo(x1, v1, x2, v2)\n",
    "    fptr.write(result + '\\n')\n",
    "    fptr.close()"
   ]
  },
  {
   "cell_type": "markdown",
   "id": "7b471c44",
   "metadata": {},
   "source": [
    "# 3. Viral Advertising\n",
    "\n"
   ]
  },
  {
   "cell_type": "code",
   "execution_count": null,
   "id": "6517afdd",
   "metadata": {},
   "outputs": [],
   "source": [
    "#!/bin/python3\n",
    "#\n",
    "# Complete the 'viralAdvertising' function below.\n",
    "#\n",
    "# The function is expected to return an INTEGER.\n",
    "# The function accepts INTEGER n as parameter.\n",
    "#\n",
    "\n",
    "def viralAdvertising(n):\n",
    "    # Write your code here\n",
    "    p = 5                   #total people as on day 1\n",
    "    s = 0\n",
    "    for _ in range(n):\n",
    "        l = p//2            #minimum people who like\n",
    "        s += l              #people who likes\n",
    "        p = l*3             #each share to 3 people\n",
    "    return s\n",
    "\n",
    "if __name__ == '__main__':\n",
    "    fptr = open(os.environ['OUTPUT_PATH'], 'w')\n",
    "    n = int(input().strip())\n",
    "    result = viralAdvertising(n)\n",
    "    fptr.write(str(result) + '\\n')\n",
    "    fptr.close()"
   ]
  },
  {
   "cell_type": "markdown",
   "id": "3d071b4d",
   "metadata": {},
   "source": [
    "# 4. Recursive Digit Sum\n",
    "\n",
    "\n"
   ]
  },
  {
   "cell_type": "code",
   "execution_count": null,
   "id": "961d3b5b",
   "metadata": {},
   "outputs": [],
   "source": [
    "#!/bin/python3\n",
    "#\n",
    "# Complete the 'superDigit' function below.\n",
    "#\n",
    "# The function is expected to return an INTEGER.\n",
    "# The function accepts following parameters:\n",
    "#  1. STRING n\n",
    "#  2. INTEGER k\n",
    "#\n",
    "\n",
    "def superDigit(n, k):\n",
    "    # Write your code here\n",
    "    t = 0\n",
    "    for i in range(len(n)):\n",
    "        t += int(n[i])\n",
    "    a = t*k\n",
    "    a = str(a)\n",
    "    s = 0 \n",
    "    while (len(a)>=1):      #till we get a single digit numb\n",
    "        if len(a) == 1:     #checking if sum is a single digit\n",
    "            return s\n",
    "        else:\n",
    "            s = 0\n",
    "            for i in range(len(a)): #sum of the string\n",
    "                s += int(a[i])\n",
    "        a = str(s) \n",
    "\n",
    "if __name__ == '__main__':\n",
    "    fptr = open(os.environ['OUTPUT_PATH'], 'w')\n",
    "    first_multiple_input = input().rstrip().split()\n",
    "    n = first_multiple_input[0]\n",
    "    k = int(first_multiple_input[1])\n",
    "    result = superDigit(n, k)\n",
    "    fptr.write(str(result) + '\\n')\n",
    "    fptr.close()"
   ]
  },
  {
   "cell_type": "markdown",
   "id": "a2b21361",
   "metadata": {},
   "source": [
    "# 5. Insertion Sort - Part 1\n",
    "\n"
   ]
  },
  {
   "cell_type": "code",
   "execution_count": null,
   "id": "ad10b1a4",
   "metadata": {},
   "outputs": [],
   "source": [
    "#!/bin/python3\n",
    "#\n",
    "# Complete the 'insertionSort1' function below.\n",
    "#\n",
    "# The function accepts following parameters:\n",
    "#  1. INTEGER n\n",
    "#  2. INTEGER_ARRAY arr\n",
    "#\n",
    "\n",
    "def insertionSort1(n, arr):\n",
    "    # Write your code here\n",
    "    \n",
    "    b = arr[-1]                     #assigning nth value\n",
    "    for i in range(n-1,-1,-1):      #iterating from end to start\n",
    "        if b > arr[i-1]:            #n-1 is greater than n\n",
    "            arr[i] = b\n",
    "            print (\" \".join(map(str,arr)))\n",
    "            break\n",
    "\n",
    "        elif arr[i] == arr[i-1]:    #n == n-1\n",
    "            arr[i] = arr[i-1]\n",
    "            print (\" \".join(map(str,arr)))\n",
    "\n",
    "        elif arr[i] < arr[i-1]:\n",
    "            if i == 0:              #if given val is smallest, else it will compare the 1st and nth element\n",
    "                arr[i] = b        \n",
    "            else:\n",
    "                a = arr[i]\n",
    "                arr[i] = arr[i-1]\n",
    "                \n",
    "        else:                       #n > n-1\n",
    "            arr[i] = arr[i-1]\n",
    "        print (\" \".join(map(str,arr)))\n",
    "    \n",
    "if __name__ == '__main__':\n",
    "    n = int(input().strip())\n",
    "    arr = list(map(int, input().rstrip().split()))\n",
    "    insertionSort1(n, arr)"
   ]
  },
  {
   "cell_type": "markdown",
   "id": "523e5d64",
   "metadata": {},
   "source": [
    "# 6. Insertion Sort - Part 2\n",
    "\n"
   ]
  },
  {
   "cell_type": "code",
   "execution_count": null,
   "id": "6d6aa067",
   "metadata": {},
   "outputs": [],
   "source": [
    "#!/bin/python3\n",
    "#\n",
    "# Complete the 'insertionSort2' function below.\n",
    "#\n",
    "# The function accepts following parameters:\n",
    "#  1. INTEGER n\n",
    "#  2. INTEGER_ARRAY arr\n",
    "#\n",
    "\n",
    "def insertionSort2(n, arr):\n",
    "    # Write your code here\n",
    "    for i in range(1,n):\n",
    "        j = i;\n",
    "        while (j > 0 and arr[j] < arr[j-1]):    #checking and sorting all val lower than the current val\n",
    "            a = arr[j]\n",
    "            arr[j] = arr[j-1]\n",
    "            arr[j-1] = a\n",
    "            j -= 1\n",
    "        print (\" \".join(map(str,arr)))\n",
    "    \n",
    "if __name__ == '__main__':\n",
    "    n = int(input().strip())\n",
    "    arr = list(map(int, input().rstrip().split()))\n",
    "    insertionSort2(n, arr)"
   ]
  }
 ],
 "metadata": {
  "kernelspec": {
   "display_name": "Python 3",
   "language": "python",
   "name": "python3"
  },
  "language_info": {
   "codemirror_mode": {
    "name": "ipython",
    "version": 3
   },
   "file_extension": ".py",
   "mimetype": "text/x-python",
   "name": "python",
   "nbconvert_exporter": "python",
   "pygments_lexer": "ipython3",
   "version": "3.8.8"
  }
 },
 "nbformat": 4,
 "nbformat_minor": 5
}
