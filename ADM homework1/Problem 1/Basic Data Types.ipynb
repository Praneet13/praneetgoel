{
 "cells": [
  {
   "cell_type": "markdown",
   "id": "10ff792f",
   "metadata": {},
   "source": [
    "# 1. List Comprehensions\n",
    "\n"
   ]
  },
  {
   "cell_type": "code",
   "execution_count": null,
   "id": "c38d7ad3",
   "metadata": {},
   "outputs": [],
   "source": [
    "if __name__ == '__main__':\n",
    "    x = int(input())\n",
    "    y = int(input())\n",
    "    z = int(input())\n",
    "    n = int(input())\n",
    "    print (list([i,j,k] for i in range(x+1) \n",
    "                    for j in range(y+1)\n",
    "                    for k in range(z+1) \n",
    "                    if i+j+k != n)) "
   ]
  },
  {
   "cell_type": "markdown",
   "id": "e79a99b5",
   "metadata": {},
   "source": [
    "# 2. Find the Runner-Up Score!\n",
    "\n"
   ]
  },
  {
   "cell_type": "code",
   "execution_count": null,
   "id": "52b5643f",
   "metadata": {},
   "outputs": [],
   "source": [
    "if __name__ == '__main__':\n",
    "    n = int(input())\n",
    "    arr = map(int, input().split())\n",
    "    a = list(arr)\n",
    "    b = []\n",
    "    \n",
    "    for i in range(len(a)):                 #getting unique values\n",
    "        if a[i] not in b:\n",
    "            b.append(a[i])\n",
    "            \n",
    "    for i in range(len(b)):                 #sorting list\n",
    "        for j in range(i+1,len(b)):\n",
    "            if b[i]>b[j]:\n",
    "                c = b[i]\n",
    "                b[i]=b[j]\n",
    "                b[j]=c\n",
    "                \n",
    "    print (b[-2])                           #printing 2nd highest value"
   ]
  },
  {
   "cell_type": "markdown",
   "id": "39da30e9",
   "metadata": {},
   "source": [
    "# 3. Nested Lists"
   ]
  },
  {
   "cell_type": "code",
   "execution_count": null,
   "id": "d60b08f9",
   "metadata": {},
   "outputs": [],
   "source": [
    "if __name__ == '__main__':\n",
    "    a = []\n",
    "    z = []\n",
    "    n = int(input())\n",
    "    for _ in range(n):\n",
    "        name = input()\n",
    "        score = float(input())\n",
    "        b = name,score\n",
    "        a.append(b)\n",
    "    l = sorted(a ,key = lambda x:x[1])  #sorting as per score\n",
    "    for i in range (1,n):\n",
    "        if l[i][1] != l[i-1][1]:        #getting 2nd highest score\n",
    "            s = l[i][1]\n",
    "            break\n",
    "    l = sorted(a ,key = lambda x:x[0])  #sorting as per names\n",
    "    for i in range (n):\n",
    "        if l[i][1] == s:\n",
    "            print (l[i][0])"
   ]
  },
  {
   "cell_type": "markdown",
   "id": "dad29620",
   "metadata": {},
   "source": [
    "# 4. Finding the percentage"
   ]
  },
  {
   "cell_type": "code",
   "execution_count": null,
   "id": "b12942b7",
   "metadata": {},
   "outputs": [],
   "source": [
    "if __name__ == '__main__':\n",
    "    n = int(input())\n",
    "    student_marks = {}\n",
    "    for _ in range(n):\n",
    "        name, *line = input().split()               #taking name and marks as input\n",
    "        scores = list(map(float, line))             #assigning marks to value float\n",
    "        student_marks[name] = scores\n",
    "    query_name = input()                            #taking student name for avg\n",
    "    s=0\n",
    "    a = [v for v in student_marks[query_name]]      #putting marks in a list\n",
    "    s = sum(float(i) for i in a)                    #sum of numbers in a list\n",
    "    print (\"{:0.2f}\".format(s/len(a)))              #converting to str for 2 decimal places\n"
   ]
  },
  {
   "cell_type": "markdown",
   "id": "a31b5d42",
   "metadata": {},
   "source": [
    "# 5. Lists"
   ]
  },
  {
   "cell_type": "code",
   "execution_count": null,
   "id": "6f8483f9",
   "metadata": {},
   "outputs": [],
   "source": [
    "if __name__ == '__main__':\n",
    "    N = int(raw_input())                            #number of times the code will run\n",
    "    list = [ ]\n",
    "    for i in range (N):\n",
    "        n = map(str,raw_input().split())            #taking outputs as required\n",
    "        \n",
    "        if n[0]==\"insert\":                          #insertion\n",
    "            list.insert(int(n[1]),int(n[2]))\n",
    "        elif n[0]==\"print\":                         #printing the list\n",
    "            print(list)\n",
    "        elif n[0]==\"remove\":                        #removing a number\n",
    "            list.remove(int(n[1]))\n",
    "        elif n[0]==\"append\":                        #appending list\n",
    "            list.append(int(n[1]))\n",
    "        elif n[0]==\"sort\":                          #sorting list\n",
    "            list.sort()\n",
    "        elif n[0]==\"pop\":                           #poping a number\n",
    "            list.pop()\n",
    "        elif n[0]==\"reverse\":                       #reversing the list\n",
    "            list.reverse()\n",
    "            \n"
   ]
  },
  {
   "cell_type": "markdown",
   "id": "eca25ea3",
   "metadata": {},
   "source": [
    "# 6. Tuples"
   ]
  },
  {
   "cell_type": "code",
   "execution_count": null,
   "id": "54e63351",
   "metadata": {},
   "outputs": [],
   "source": [
    "if __name__ == '__main__':\n",
    "    n = int(input())\n",
    "    integer_list = map(int, input().split())\n",
    "    t= tuple(integer_list)\n",
    "    print (hash(t))"
   ]
  }
 ],
 "metadata": {
  "kernelspec": {
   "display_name": "Python 3",
   "language": "python",
   "name": "python3"
  },
  "language_info": {
   "codemirror_mode": {
    "name": "ipython",
    "version": 3
   },
   "file_extension": ".py",
   "mimetype": "text/x-python",
   "name": "python",
   "nbconvert_exporter": "python",
   "pygments_lexer": "ipython3",
   "version": "3.8.8"
  }
 },
 "nbformat": 4,
 "nbformat_minor": 5
}
