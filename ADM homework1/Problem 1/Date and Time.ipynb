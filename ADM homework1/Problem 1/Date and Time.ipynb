{
 "cells": [
  {
   "cell_type": "markdown",
   "id": "93fbe8d2",
   "metadata": {},
   "source": [
    "# 1. Calendar Module"
   ]
  },
  {
   "cell_type": "code",
   "execution_count": null,
   "id": "9cb47cfa",
   "metadata": {},
   "outputs": [],
   "source": [
    "# Enter your code here. Read input from STDIN. Print output to STDOUT\n",
    "import calendar\n",
    "m,d,y = map(int,input().split())\n",
    "print (calendar.day_name[calendar.weekday(y,m,d)].upper()) #name of the day"
   ]
  },
  {
   "cell_type": "markdown",
   "id": "757ced3b",
   "metadata": {},
   "source": [
    "# 2. Time Delta\n",
    "\n"
   ]
  },
  {
   "cell_type": "code",
   "execution_count": null,
   "id": "35e9b669",
   "metadata": {},
   "outputs": [],
   "source": [
    "# Enter your code here. Read input from STDIN. Print output to STDOUT\n",
    "import datetime\n",
    "\n",
    "time_format = \"%a %d %b %Y %H:%M:%S %z\"\n",
    "t = int(input())\n",
    "\n",
    "for _ in range(t):\n",
    "    a = input()\n",
    "    b = input()\n",
    "    t1 = datetime.datetime.strptime(a, time_format)\n",
    "    t2 = datetime.datetime.strptime(b, time_format)\n",
    "    print (int(abs((t1-t2).total_seconds())))     #absolute difference between times"
   ]
  }
 ],
 "metadata": {
  "kernelspec": {
   "display_name": "Python 3",
   "language": "python",
   "name": "python3"
  },
  "language_info": {
   "codemirror_mode": {
    "name": "ipython",
    "version": 3
   },
   "file_extension": ".py",
   "mimetype": "text/x-python",
   "name": "python",
   "nbconvert_exporter": "python",
   "pygments_lexer": "ipython3",
   "version": "3.8.8"
  }
 },
 "nbformat": 4,
 "nbformat_minor": 5
}
