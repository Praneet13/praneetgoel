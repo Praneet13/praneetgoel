{
 "cells": [
  {
   "cell_type": "code",
   "execution_count": null,
   "id": "bee8beb4",
   "metadata": {},
   "outputs": [],
   "source": [
    "from collections import Counter\n",
    "from collections import defaultdict\n",
    "from collections import namedtuple\n",
    "from collections import OrderedDict\n",
    "from collections import deque"
   ]
  },
  {
   "cell_type": "markdown",
   "id": "3fd54802",
   "metadata": {},
   "source": [
    "# 1. collections.Counter()"
   ]
  },
  {
   "cell_type": "code",
   "execution_count": null,
   "id": "e77babb1",
   "metadata": {},
   "outputs": [],
   "source": [
    "# Enter your code here. Read input from STDIN. Print output to STDOUT\n",
    "X = int(input())\n",
    "shoe_size = Counter(map(int,input().split()))\n",
    "no_of_cust = int(input())\n",
    "income=0\n",
    "for i in range(no_of_cust):\n",
    "    sz,price = map(int,input().split())\n",
    "    if shoe_size[sz]:\n",
    "        shoe_size[sz] -=1\n",
    "        income+= price\n",
    "print (income)               #total amount earned"
   ]
  },
  {
   "cell_type": "markdown",
   "id": "85269ec9",
   "metadata": {},
   "source": [
    "# 2. DefaultDict Tutorial\n",
    "\n",
    " "
   ]
  },
  {
   "cell_type": "code",
   "execution_count": null,
   "id": "44195c6f",
   "metadata": {},
   "outputs": [],
   "source": [
    "# Enter your code here. Read input from STDIN. Print output to STDOUT\n",
    "d=defaultdict(list)\n",
    "n,m = map(int,input().split())          #taking 2 int inputs\n",
    "for i in range (n):\n",
    "    d[input()].append(str(i+1))         #appending defaultdict as (n:pos)  \n",
    "l=[]\n",
    "for j in range (m):                     \n",
    "    l = input()         \n",
    "    if l in d:                          #checking a str in list, if yes then print pos\n",
    "        print (\" \".join(d[l]))          \n",
    "    else:\n",
    "        print (\"-1\")"
   ]
  },
  {
   "cell_type": "markdown",
   "id": "3f0840a2",
   "metadata": {},
   "source": [
    "# 3. Collections.namedtuple()\n",
    "\n"
   ]
  },
  {
   "cell_type": "code",
   "execution_count": null,
   "id": "c5673139",
   "metadata": {},
   "outputs": [],
   "source": [
    "# Enter your code here. Read input from STDIN. Print output to STDOUT\n",
    "no_students = int(input())      #total students\n",
    "student = namedtuple('student',input().split()) #column names\n",
    "s = 0\n",
    "for i in range(no_students):\n",
    "    x = student(*input().split())   #column values\n",
    "    s += int(x.MARKS)       #taking marks of each student\n",
    "print(\"{:0.2f}\".format(float(s)/float(no_students)))    #avg marks upto 2 decimal places"
   ]
  },
  {
   "cell_type": "markdown",
   "id": "70a883d6",
   "metadata": {},
   "source": [
    "# 4. Collections.OrderedDict()\n",
    "\n",
    " "
   ]
  },
  {
   "cell_type": "code",
   "execution_count": null,
   "id": "9a0dfade",
   "metadata": {},
   "outputs": [],
   "source": [
    "# Enter your code here. Read input from STDIN. Print output to STDOUT\n",
    "d={}\n",
    "n = int(input())\n",
    "for i in range (n):\n",
    "    a = input().split()\n",
    "    name = \" \".join(a[:-1])             #name of items \n",
    "    price = int(a[-1])                  #price of items\n",
    "    if name in d:\n",
    "        d[name] += price                #total price of each item\n",
    "    else:\n",
    "        d[name] = price\n",
    "for k,v in d.items():          \n",
    "    print(k,v)"
   ]
  },
  {
   "cell_type": "markdown",
   "id": "2cc0473c",
   "metadata": {},
   "source": [
    "# 5. Word Order\n",
    "\n"
   ]
  },
  {
   "cell_type": "code",
   "execution_count": null,
   "id": "a958b91e",
   "metadata": {},
   "outputs": [],
   "source": [
    "# Enter your code here. Read input from STDIN. Print output to STDOUT\n",
    "d = {}\n",
    "s=[]\n",
    "for i in range(int(input())):\n",
    "    l = input()\n",
    "    if l in d:              #if the word is already present in an new dict\n",
    "        d[l]+=1\n",
    "    else:\n",
    "        d[l] = 1\n",
    "        s.append(l)\n",
    "        \n",
    "print (len(s))\n",
    "for i in s:\n",
    "    print (d[i], end=\" \")"
   ]
  },
  {
   "cell_type": "markdown",
   "id": "f59f5b80",
   "metadata": {},
   "source": [
    "# 6. Collections.deque()\n",
    "\n",
    " "
   ]
  },
  {
   "cell_type": "code",
   "execution_count": null,
   "id": "337bfa2a",
   "metadata": {},
   "outputs": [],
   "source": [
    "# Enter your code here. Read input from STDIN. Print output to STDOUT\n",
    "d = deque()\n",
    "for _ in range (int(input())):\n",
    "    l = list(input().split())\n",
    "    if l[0] == 'append':                #append\n",
    "        d.append(int(l[1]))\n",
    "    elif l[0] == 'appendleft':          #appendleft\n",
    "        d.appendleft(int(l[1]))\n",
    "    elif l[0] == 'pop':                 #pop\n",
    "        d.pop()\n",
    "    elif l[0] == 'popleft':             #popleft\n",
    "        d.popleft()\n",
    "        \n",
    "for i in d:\n",
    "    print (i, end =' ')"
   ]
  },
  {
   "cell_type": "markdown",
   "id": "49480cc3",
   "metadata": {},
   "source": [
    "# 7. Company Logo"
   ]
  },
  {
   "cell_type": "code",
   "execution_count": null,
   "id": "80eeed4e",
   "metadata": {},
   "outputs": [],
   "source": [
    "#!/bin/python3\n",
    "if __name__ == '__main__':\n",
    "    s = input()\n",
    "    a = Counter(s)\n",
    "    l = []\n",
    "    for i in a:\n",
    "        l.append([a[i], i]) #assigning the totals using counter\n",
    "\n",
    "    l = sorted(l, key=lambda x: x[1])   #sorting at axis=1\n",
    "    l = sorted(l, key=lambda x: x[0], reverse=True) #axis=0\n",
    "        #now printing 3 most occured items\n",
    "    print(l[0][1], l[0][0])     \n",
    "    print(l[1][1], l[1][0])\n",
    "    print(l[2][1], l[2][0])"
   ]
  },
  {
   "cell_type": "markdown",
   "id": "68e6a04b",
   "metadata": {},
   "source": [
    "# 8. Piling Up!\n",
    "\n"
   ]
  },
  {
   "cell_type": "code",
   "execution_count": null,
   "id": "02ec54c0",
   "metadata": {},
   "outputs": [],
   "source": [
    "# Enter your code here. Read input from STDIN. Print output to STDOUT\n",
    "def solution(d):\n",
    "    l =[]\n",
    "    if d[0] >= d[-1]:\n",
    "        l.append(d.popleft())\n",
    "    else:\n",
    "        l.append(d.pop())\n",
    "\n",
    "    while(len(d)>1):\n",
    "        if (d[0] >= d [-1]) and (d[0] <= l[-1]): \n",
    "            d.popleft()     #popleft if 1st is higher than last\n",
    "        elif (d[0] <= d [-1]) and (d[-1] <= l[-1]):\n",
    "            d.pop()         #pop if 1st is less than last\n",
    "        else:\n",
    "            return 'No'     #NO if stack cannot be completed  \n",
    "    return 'Yes'            #YES if stack can be completed\n",
    "    \n",
    "for _ in range (int(input())):\n",
    "    a = int(input())\n",
    "    d = deque(map(int, input().split()))\n",
    "    print (solution(d))"
   ]
  }
 ],
 "metadata": {
  "kernelspec": {
   "display_name": "Python 3",
   "language": "python",
   "name": "python3"
  },
  "language_info": {
   "codemirror_mode": {
    "name": "ipython",
    "version": 3
   },
   "file_extension": ".py",
   "mimetype": "text/x-python",
   "name": "python",
   "nbconvert_exporter": "python",
   "pygments_lexer": "ipython3",
   "version": "3.8.8"
  }
 },
 "nbformat": 4,
 "nbformat_minor": 5
}
