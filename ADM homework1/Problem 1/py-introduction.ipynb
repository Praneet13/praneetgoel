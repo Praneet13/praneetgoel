{
 "cells": [
  {
   "cell_type": "code",
   "execution_count": null,
   "id": "2d491996",
   "metadata": {},
   "outputs": [],
   "source": [
    "import math\n",
    "import os\n",
    "import random\n",
    "import re\n",
    "import sys\n",
    "from __future__ import print_function\n",
    "from __future__ import division"
   ]
  },
  {
   "cell_type": "markdown",
   "id": "2cc111f8",
   "metadata": {},
   "source": [
    "# 1. Say \"Hello, World!\" With Python"
   ]
  },
  {
   "cell_type": "code",
   "execution_count": null,
   "id": "ed6fccf0",
   "metadata": {},
   "outputs": [],
   "source": [
    "if __name__ == '__main__':\n",
    "    print (\"Hello, World!\")"
   ]
  },
  {
   "cell_type": "markdown",
   "id": "4404a65b",
   "metadata": {},
   "source": [
    "# 2. Python If-Else\n"
   ]
  },
  {
   "cell_type": "code",
   "execution_count": null,
   "id": "3e0e32ff",
   "metadata": {},
   "outputs": [],
   "source": [
    "#!/bin/python\n",
    "\n",
    "if __name__ == '__main__':\n",
    "    n = int(input().strip()) \n",
    "    if n%2!=0 or (n%2==0 and 6<=n<=20):  #placing 2 conditions at a time\n",
    "        print (\"Weird\")\n",
    "    if (n%2==0 and 2<=n<=5) or (n%2==0 and n>20):   #placing both conditions for NOT WEIRD\n",
    "        print (\"Not Weird\")"
   ]
  },
  {
   "cell_type": "markdown",
   "id": "ed36d9f5",
   "metadata": {},
   "source": [
    "# 3. Arithmetic Operators\n",
    "\n"
   ]
  },
  {
   "cell_type": "code",
   "execution_count": null,
   "id": "75505c4b",
   "metadata": {},
   "outputs": [],
   "source": [
    "if __name__ == '__main__':\n",
    "    a = int(input())\n",
    "    b = int(input())\n",
    "    s= a+b                #sum\n",
    "    diff= a-b             #diff\n",
    "    p=a*b                 #product\n",
    "    print (s)\n",
    "    print (diff)\n",
    "    print (p)"
   ]
  },
  {
   "cell_type": "markdown",
   "id": "36317cc3",
   "metadata": {},
   "source": [
    "# 4. Python: Division "
   ]
  },
  {
   "cell_type": "code",
   "execution_count": null,
   "id": "d8eb07d4",
   "metadata": {},
   "outputs": [],
   "source": [
    "if __name__ == '__main__':\n",
    "    a = int(input())\n",
    "    b = int(input())\n",
    "    print (a//b)        #print int\n",
    "    print (a/b)         #print float"
   ]
  },
  {
   "cell_type": "markdown",
   "id": "f97c68a5",
   "metadata": {},
   "source": [
    "# 5. Loops\n",
    "\n"
   ]
  },
  {
   "cell_type": "code",
   "execution_count": null,
   "id": "ead9f67b",
   "metadata": {},
   "outputs": [],
   "source": [
    "if __name__ == '__main__':\n",
    "    n = int(input())\n",
    "    count =0\n",
    "    while n>count:\n",
    "        print (count**2)\n",
    "        count +=1"
   ]
  },
  {
   "cell_type": "markdown",
   "id": "6f91c888",
   "metadata": {},
   "source": [
    "# 6. Write a function\n",
    "\n"
   ]
  },
  {
   "cell_type": "code",
   "execution_count": null,
   "id": "5b50c8f7",
   "metadata": {},
   "outputs": [],
   "source": [
    "def is_leap(year):              #checking for leap year\n",
    "    leap = False\n",
    "    # Write your logic here\n",
    "    if year%4==0:\n",
    "        if year%100==0:\n",
    "            if year%400==0:\n",
    "                return True\n",
    "        else:\n",
    "            return True     \n",
    "    return leap\n",
    "year = int(input())\n",
    "print(is_leap(year))"
   ]
  },
  {
   "cell_type": "markdown",
   "id": "3e8523f8",
   "metadata": {},
   "source": [
    "# 7. Print Function\n",
    "\n"
   ]
  },
  {
   "cell_type": "code",
   "execution_count": null,
   "id": "7c28a821",
   "metadata": {},
   "outputs": [],
   "source": [
    "if __name__ == '__main__':\n",
    "    n = int(input())\n",
    "    s=1\n",
    "    i=2\n",
    "    while n>=i:\n",
    "        s=str(s)+ str(i)    #appending string\n",
    "        i+=1\n",
    "    print (s)"
   ]
  }
 ],
 "metadata": {
  "kernelspec": {
   "display_name": "Python 3",
   "language": "python",
   "name": "python3"
  },
  "language_info": {
   "codemirror_mode": {
    "name": "ipython",
    "version": 3
   },
   "file_extension": ".py",
   "mimetype": "text/x-python",
   "name": "python",
   "nbconvert_exporter": "python",
   "pygments_lexer": "ipython3",
   "version": "3.8.8"
  }
 },
 "nbformat": 4,
 "nbformat_minor": 5
}
