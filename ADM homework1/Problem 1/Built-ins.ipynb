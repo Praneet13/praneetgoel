{
 "cells": [
  {
   "cell_type": "code",
   "execution_count": null,
   "id": "c3a6946d",
   "metadata": {},
   "outputs": [],
   "source": [
    "import math\n",
    "import os\n",
    "import random\n",
    "import re\n",
    "import sys"
   ]
  },
  {
   "cell_type": "markdown",
   "id": "83531fea",
   "metadata": {},
   "source": [
    "# 1. Zipped!\n",
    "\n"
   ]
  },
  {
   "cell_type": "code",
   "execution_count": null,
   "id": "aee0fea2",
   "metadata": {},
   "outputs": [],
   "source": [
    "# Enter your code here. Read input from STDIN. Print output to STDOUT\n",
    "n = map(int, input().split())\n",
    "l = list (n)\n",
    "l1 = []\n",
    "a = []\n",
    "for i in range(int(l[1])):\n",
    "    marks = map(float,input().split())\n",
    "    l1 = list(marks)\n",
    "    a.append(l1)    #making a list of marks in a list of students\n",
    "for i in zip(*a):   \n",
    "    s = 0\n",
    "    for j in i:     #sum of all numbers\n",
    "        s += float(j)\n",
    "    avg = s/l[1]    #average marks\n",
    "    print (avg)"
   ]
  },
  {
   "cell_type": "markdown",
   "id": "99ff95e9",
   "metadata": {},
   "source": [
    "# 2. Athlete Sort\n",
    "\n"
   ]
  },
  {
   "cell_type": "code",
   "execution_count": null,
   "id": "61152695",
   "metadata": {},
   "outputs": [],
   "source": [
    "#!/bin/python3\n",
    "if __name__ == '__main__':\n",
    "    nm = input().split()\n",
    "    n = int(nm[0])\n",
    "    m = int(nm[1])\n",
    "    arr = []\n",
    "    for _ in range(n):\n",
    "        arr.append(list(map(int, input().rstrip().split())))\n",
    "    k = int(input())\n",
    "    for i in sorted(arr, key = lambda x:x[k]):\n",
    "        print (' '.join(map(str,i)))"
   ]
  },
  {
   "cell_type": "markdown",
   "id": "c69a25a5",
   "metadata": {},
   "source": [
    "# 3. ginortS\n",
    "\n"
   ]
  },
  {
   "cell_type": "code",
   "execution_count": null,
   "id": "ab93d17b",
   "metadata": {},
   "outputs": [],
   "source": [
    "s = input()\n",
    "u =[]\n",
    "l = []\n",
    "e = []\n",
    "o = []\n",
    "l1 = []\n",
    "for i in range(len(s)):\n",
    "    if s[i].isupper() == True:      #checking for upper\n",
    "        u.append(s[i])\n",
    "        \n",
    "    elif s[i].islower() == True:    #checking for lower\n",
    "        l.append(s[i])\n",
    "        \n",
    "    elif s[i].isdigit() == True:    #checking for digit \n",
    "        if int(s[i])%2 == 0:\n",
    "            e.append(s[i])\n",
    "        else:\n",
    "            o.append(s[i])\n",
    "l.sort()\n",
    "u.sort()\n",
    "o.sort()\n",
    "e.sort()            \n",
    "l1 = l+u+o+e                        #appending in a new list\n",
    "print (''.join(l1))                 #joining with no spaces"
   ]
  }
 ],
 "metadata": {
  "kernelspec": {
   "display_name": "Python 3",
   "language": "python",
   "name": "python3"
  },
  "language_info": {
   "codemirror_mode": {
    "name": "ipython",
    "version": 3
   },
   "file_extension": ".py",
   "mimetype": "text/x-python",
   "name": "python",
   "nbconvert_exporter": "python",
   "pygments_lexer": "ipython3",
   "version": "3.8.8"
  }
 },
 "nbformat": 4,
 "nbformat_minor": 5
}
