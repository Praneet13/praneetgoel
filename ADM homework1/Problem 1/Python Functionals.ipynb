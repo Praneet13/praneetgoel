{
 "cells": [
  {
   "cell_type": "markdown",
   "id": "04046868",
   "metadata": {},
   "source": [
    "# 1. Map and Lambda Function"
   ]
  },
  {
   "cell_type": "code",
   "execution_count": null,
   "id": "e9fa23eb",
   "metadata": {},
   "outputs": [],
   "source": [
    "cube = lambda x: x**3# complete the lambda function \n",
    "\n",
    "def fibonacci(n):\n",
    "    # return a list of fibonacci numbers\n",
    "    b = [0,1]\n",
    "    s,x,y,c = 0,0,1,0\n",
    "    \n",
    "    if n == 0:\n",
    "        return []\n",
    "    if n == 1:\n",
    "        return [0]\n",
    "    else:\n",
    "        while c < n-2:          #fibonacci sequence for n numbers\n",
    "            s = x + y\n",
    "            x = y\n",
    "            y = s\n",
    "            c += 1\n",
    "            b.append(s)\n",
    "        return b"
   ]
  }
 ],
 "metadata": {
  "kernelspec": {
   "display_name": "Python 3",
   "language": "python",
   "name": "python3"
  },
  "language_info": {
   "codemirror_mode": {
    "name": "ipython",
    "version": 3
   },
   "file_extension": ".py",
   "mimetype": "text/x-python",
   "name": "python",
   "nbconvert_exporter": "python",
   "pygments_lexer": "ipython3",
   "version": "3.8.8"
  }
 },
 "nbformat": 4,
 "nbformat_minor": 5
}
