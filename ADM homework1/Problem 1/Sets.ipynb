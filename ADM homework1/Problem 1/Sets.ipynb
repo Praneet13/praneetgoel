{
 "cells": [
  {
   "cell_type": "markdown",
   "id": "8d844e66",
   "metadata": {},
   "source": [
    "# 1. Introduction to Sets"
   ]
  },
  {
   "cell_type": "code",
   "execution_count": null,
   "id": "bbe9ca5f",
   "metadata": {},
   "outputs": [],
   "source": [
    "def average(array):\n",
    "    # your code goes here\n",
    "    s=0\n",
    "    a = list(set(array))                #converting to list as set is not subscriptable\n",
    "    for i in range (len(a)):\n",
    "        s = s + a[i]\n",
    "    avg = \"{:0.3f}\".format(s/len(a))    #printing float value upto 3 decimal places\n",
    "    return avg\n",
    "\n",
    "if __name__ == '__main__':\n",
    "    n = int(input())\n",
    "    arr = list(map(int, input().split()))\n",
    "    result = average(arr)\n",
    "    print(result)"
   ]
  },
  {
   "cell_type": "markdown",
   "id": "4f47c466",
   "metadata": {},
   "source": [
    "# 2. No Idea!\n",
    "\n"
   ]
  },
  {
   "cell_type": "code",
   "execution_count": null,
   "id": "a6400a9d",
   "metadata": {},
   "outputs": [],
   "source": [
    "# Enter your code here. Read input from STDIN. Print output to STDOUT\n",
    "\n",
    "happiness = 0\n",
    "n,m = map(int,input().split())\n",
    "arr=list(map(int,input().split()))\n",
    "a=set(map(int,input().split()))\n",
    "b=set(map(int,input().split()))\n",
    "\n",
    "for i in arr:\n",
    "    if i in a:\n",
    "        happiness+=1\n",
    "    if i in b:\n",
    "        happiness-=1\n",
    "print (happiness)              #total happiness"
   ]
  },
  {
   "cell_type": "markdown",
   "id": "3dba132b",
   "metadata": {},
   "source": [
    "# 3. Symmetric Difference"
   ]
  },
  {
   "cell_type": "code",
   "execution_count": null,
   "id": "03c372fb",
   "metadata": {},
   "outputs": [],
   "source": [
    "# Enter your code here. Read input from STDIN. Print output to STDOUT\n",
    "m = int(input())\n",
    "a = set(map(int,input().split()))\n",
    "n = int(input())\n",
    "b = set(map(int,input().split()))\n",
    "c = a.difference(b)\n",
    "c.update(b.difference(a))       #appending\n",
    "l = sorted(set(c))\n",
    "for i in l:\n",
    "    print (i)"
   ]
  },
  {
   "cell_type": "markdown",
   "id": "4ecb47c6",
   "metadata": {},
   "source": [
    "# 4. Set .add()\n",
    "\n"
   ]
  },
  {
   "cell_type": "code",
   "execution_count": null,
   "id": "3cc482a6",
   "metadata": {},
   "outputs": [],
   "source": [
    "# Enter your code here. Read input from STDIN. Print output to STDOUT\n",
    "s = set ()\n",
    "for i in range(int(input())):\n",
    "    s.add(input())\n",
    "print (len(s))"
   ]
  },
  {
   "cell_type": "markdown",
   "id": "3e8d0552",
   "metadata": {},
   "source": [
    "# 5. Set .discard(), .remove() & .pop()\n",
    "\n"
   ]
  },
  {
   "cell_type": "code",
   "execution_count": null,
   "id": "99acec33",
   "metadata": {},
   "outputs": [],
   "source": [
    "n = int(input())\n",
    "s = set(map(int, input().split()))\n",
    "for i in range(int(input())):\n",
    "    c = input().split()\n",
    "    if c[0] == 'pop':\n",
    "        s.pop()\n",
    "    elif c == 'remove':\n",
    "        s.remove(int(c[i]))\n",
    "    else:\n",
    "        s.discard(int(c[1]))\n",
    "print (sum(s))"
   ]
  },
  {
   "cell_type": "markdown",
   "id": "7647bc58",
   "metadata": {},
   "source": [
    "# 6. Set .union() Operation\n",
    "\n"
   ]
  },
  {
   "cell_type": "code",
   "execution_count": null,
   "id": "34f8e797",
   "metadata": {},
   "outputs": [],
   "source": [
    "# Enter your code here. Read input from STDIN. Print output to STDOUT\n",
    "n = int(input())\n",
    "s = set(input().split())\n",
    "b = int(input())\n",
    "r = set(input().split())\n",
    "print (len(s.union(r))) "
   ]
  },
  {
   "cell_type": "markdown",
   "id": "f0cb10f0",
   "metadata": {},
   "source": [
    "# 7. Set .intersection() Operation"
   ]
  },
  {
   "cell_type": "code",
   "execution_count": null,
   "id": "a85605dd",
   "metadata": {},
   "outputs": [],
   "source": [
    "# Enter your code here. Read input from STDIN. Print output to STDOUT\n",
    "int(input())\n",
    "a = set(map(int, input().split()))\n",
    "int(input())\n",
    "b = set(map(int, input().split()))\n",
    "print(len(a.intersection(b)))"
   ]
  },
  {
   "cell_type": "markdown",
   "id": "0757620c",
   "metadata": {},
   "source": [
    "# 8. Set .difference() Operation\n",
    "\n"
   ]
  },
  {
   "cell_type": "code",
   "execution_count": null,
   "id": "8672f3c8",
   "metadata": {},
   "outputs": [],
   "source": [
    "# Enter your code here. Read input from STDIN. Print output to STDOUT\n",
    "n = int(input())\n",
    "a = set(map(int, input().split()))\n",
    "m = int(input())\n",
    "b = set(map(int, input().split()))\n",
    "print(len(a.difference(b)))"
   ]
  },
  {
   "cell_type": "markdown",
   "id": "fc51b6ca",
   "metadata": {},
   "source": [
    "# 9. Set .symmetric_difference() Operation "
   ]
  },
  {
   "cell_type": "code",
   "execution_count": null,
   "id": "7ad3d3b2",
   "metadata": {},
   "outputs": [],
   "source": [
    "# Enter your code here. Read input from STDIN. Print output to STDOUT\n",
    "n = int(input())\n",
    "a = set(map (int, input().split()))\n",
    "m = int(input())\n",
    "b = set(map (int, input().split()))\n",
    "x = a.symmetric_difference(b)\n",
    "print (len(x))"
   ]
  },
  {
   "cell_type": "markdown",
   "id": "dd37fcf3",
   "metadata": {},
   "source": [
    "# 10. Set Mutations"
   ]
  },
  {
   "cell_type": "code",
   "execution_count": null,
   "id": "98ab29e4",
   "metadata": {},
   "outputs": [],
   "source": [
    "# Enter your code here. Read input from STDIN. Print output to STDOUT\n",
    "n = int(input())\n",
    "a = set(map(int, input().split()))\n",
    "for i in range(int(input())):\n",
    "    s, b = input().split()\n",
    "    if s == 'intersection_update':\n",
    "        a &= set(map(int, input().split()))\n",
    "    elif s == 'update':\n",
    "        a |= set(map(int, input().split()))\n",
    "    elif s == 'symmetric_difference_update':\n",
    "        a ^= set(map(int, input().split()))\n",
    "    elif s == 'difference_update':\n",
    "        a -= set(map(int, input().split()))\n",
    "print (sum(a))  "
   ]
  },
  {
   "cell_type": "markdown",
   "id": "6a0d2973",
   "metadata": {},
   "source": [
    "# 11. The Captain's Room\n",
    "\n"
   ]
  },
  {
   "cell_type": "code",
   "execution_count": null,
   "id": "816cf767",
   "metadata": {},
   "outputs": [],
   "source": [
    "# Enter your code here. Read input from STDIN. Print output to STDOUT\n",
    "from collections import Counter\n",
    "n = int(input())\n",
    "k = map(int,input().split())\n",
    "l = list (k)\n",
    "    #repetition of Captian's room will not be there, hence used Counter\n",
    "print (Counter(l).most_common()[-1][0]) "
   ]
  },
  {
   "cell_type": "markdown",
   "id": "49ec1164",
   "metadata": {},
   "source": [
    "# 12. Check Subset\n",
    "\n"
   ]
  },
  {
   "cell_type": "code",
   "execution_count": null,
   "id": "1113bd3a",
   "metadata": {},
   "outputs": [],
   "source": [
    "# Enter your code here. Read input from STDIN. Print output to STDOUT\n",
    "for i in range(int(input())): \n",
    "    a = int(input()); \n",
    "    m = set(input().split()); \n",
    "    b = int(input());\n",
    "    n = set(input().split());\n",
    "    print (m <= n)              #checking subset"
   ]
  },
  {
   "cell_type": "markdown",
   "id": "c5cb3f69",
   "metadata": {},
   "source": [
    "# 13. Check Strict Superset\n",
    "\n"
   ]
  },
  {
   "cell_type": "code",
   "execution_count": null,
   "id": "02925a85",
   "metadata": {},
   "outputs": [],
   "source": [
    "# Enter your code here. Read input from STDIN. Print output to STDOUT\n",
    "a = set (map(int,input().split()))\n",
    "b = True\n",
    "for i in range (int(input())):\n",
    "    n = set (map(int,input().split()))\n",
    "    if (a > n) == False:\n",
    "        b = False\n",
    "        break        \n",
    "print (b) "
   ]
  }
 ],
 "metadata": {
  "kernelspec": {
   "display_name": "Python 3",
   "language": "python",
   "name": "python3"
  },
  "language_info": {
   "codemirror_mode": {
    "name": "ipython",
    "version": 3
   },
   "file_extension": ".py",
   "mimetype": "text/x-python",
   "name": "python",
   "nbconvert_exporter": "python",
   "pygments_lexer": "ipython3",
   "version": "3.8.8"
  }
 },
 "nbformat": 4,
 "nbformat_minor": 5
}
