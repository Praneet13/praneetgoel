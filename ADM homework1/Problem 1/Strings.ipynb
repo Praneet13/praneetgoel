{
 "cells": [
  {
   "cell_type": "markdown",
   "id": "279bfa57",
   "metadata": {},
   "source": [
    "# 1. sWAP cASE\n",
    "\n"
   ]
  },
  {
   "cell_type": "code",
   "execution_count": null,
   "id": "85917ef1",
   "metadata": {},
   "outputs": [],
   "source": [
    "def swap_case(s):\n",
    "    s = s.swapcase()                    #swapping upper to lower and vica-versa\n",
    "    return s\n",
    "if __name__ == '__main__':\n",
    "    s = input()\n",
    "    result = swap_case(s)\n",
    "    print(result)"
   ]
  },
  {
   "cell_type": "markdown",
   "id": "09349b75",
   "metadata": {},
   "source": [
    "# 2. String Split and Join\n",
    "\n"
   ]
  },
  {
   "cell_type": "code",
   "execution_count": null,
   "id": "2c96f7ed",
   "metadata": {},
   "outputs": [],
   "source": [
    "def split_and_join(line):\n",
    "    # write your code here\n",
    "    line = line.split(\" \")          #split \" \"\n",
    "    line = \"-\".join(line)           #join \"-\"\n",
    "    return line\n",
    "\n",
    "if __name__ == '__main__':\n",
    "    line = input()\n",
    "    result = split_and_join(line)\n",
    "    print(result)"
   ]
  },
  {
   "cell_type": "markdown",
   "id": "62145859",
   "metadata": {},
   "source": [
    "# 3. What's Your Name?\n",
    "\n"
   ]
  },
  {
   "cell_type": "code",
   "execution_count": null,
   "id": "be26a813",
   "metadata": {},
   "outputs": [],
   "source": [
    "#\n",
    "# Complete the 'print_full_name' function below.\n",
    "#\n",
    "# The function is expected to return a STRING.\n",
    "# The function accepts following parameters:\n",
    "#  1. STRING first\n",
    "#  2. STRING last\n",
    "#\n",
    "\n",
    "def print_full_name(first, last):\n",
    "    # Write your code here\n",
    "    print (\"Hello\", first, last+\"! You just delved into python.\")\n",
    "if __name__ == '__main__':\n",
    "    first_name = input()\n",
    "    last_name = input()\n",
    "    print_full_name(first_name, last_name)"
   ]
  },
  {
   "cell_type": "markdown",
   "id": "82e5b9dd",
   "metadata": {},
   "source": [
    "# 4. Mutations "
   ]
  },
  {
   "cell_type": "code",
   "execution_count": null,
   "id": "3bcfffc1",
   "metadata": {},
   "outputs": [],
   "source": [
    "def mutate_string(string, position, character):\n",
    "    a=list(s)                           #converting into a list\n",
    "    a[position] = c                     #changing value\n",
    "    a = ''.join(a)                      #converting into a string\n",
    "    return a\n",
    "\n",
    "if __name__ == '__main__':\n",
    "    s = input()\n",
    "    i, c = input().split()\n",
    "    s_new = mutate_string(s, int(i), c)\n",
    "    print(s_new)"
   ]
  },
  {
   "cell_type": "markdown",
   "id": "2005c583",
   "metadata": {},
   "source": [
    "# 5. Find a string"
   ]
  },
  {
   "cell_type": "code",
   "execution_count": null,
   "id": "3fb2093b",
   "metadata": {},
   "outputs": [],
   "source": [
    "def count_substring(string, sub_string):\n",
    "    count =0\n",
    "    for i in range (len(string) - len(sub_string)+1):      \n",
    "        if sub_string in string[i:i+len(sub_string)]:\n",
    "            count +=1\n",
    "    return count\n",
    "\n",
    "if __name__ == '__main__':\n",
    "    string = input().strip()\n",
    "    sub_string = input().strip()\n",
    "    \n",
    "    count = count_substring(string, sub_string)\n",
    "    print(count)"
   ]
  },
  {
   "cell_type": "markdown",
   "id": "571a0880",
   "metadata": {},
   "source": [
    "# 6. String Validators\n",
    "\n",
    " "
   ]
  },
  {
   "cell_type": "code",
   "execution_count": null,
   "id": "70690810",
   "metadata": {},
   "outputs": [],
   "source": [
    "if __name__ == '__main__':\n",
    "    s = input()\n",
    "    alnum=\"False\"\n",
    "    alpha=\"False\"\n",
    "    digit=\"False\"\n",
    "    lower=\"False\"\n",
    "    upper=\"False\"\n",
    "    for i in range(len(s)):\n",
    "        if(s[i].isalnum()):          #alphabet or number\n",
    "            alnum=True\n",
    "            break\n",
    "    for i in range(len(s)):\n",
    "        if(s[i].isalpha()):          #alphabet\n",
    "            alpha=True\n",
    "            break\n",
    "    for i in range(len(s)):\n",
    "        if(s[i].isdigit()):          #number\n",
    "            digit=True\n",
    "            break\n",
    "    for i in range(len(s)):\n",
    "        if(s[i].islower()):          #lower case\n",
    "            lower=True\n",
    "            break\n",
    "    for i in range(len(s)):\n",
    "        if(s[i].isupper()):          #upper case\n",
    "            upper=True\n",
    "            break\n",
    "    \n",
    "    print (alnum)\n",
    "    print (alpha)\n",
    "    print (digit)\n",
    "    print (lower)\n",
    "    print (upper)\n"
   ]
  },
  {
   "cell_type": "markdown",
   "id": "fcfb7d41",
   "metadata": {},
   "source": [
    "# 7. Text Alignment\n",
    "\n"
   ]
  },
  {
   "cell_type": "code",
   "execution_count": null,
   "id": "06544408",
   "metadata": {},
   "outputs": [],
   "source": [
    "#Replace all rjust with rjust, ljust or center. \n",
    "\n",
    "thickness = int(input()) #This must be an odd number\n",
    "c = 'H'\n",
    "\n",
    "#Top Cone\n",
    "for i in range(thickness):\n",
    "    print((c*i).rjust(thickness-1)+c+(c*i).ljust(thickness-1))\n",
    "\n",
    "#Top Pillars\n",
    "for i in range(thickness+1):\n",
    "    print((c*thickness).center(thickness*2)+(c*thickness).center(thickness*6))\n",
    "\n",
    "#Middle Belt\n",
    "for i in range((thickness+1)//2):\n",
    "    print((c*thickness*5).center(thickness*6))    \n",
    "\n",
    "#Bottom Pillars\n",
    "for i in range(thickness+1):\n",
    "    print((c*thickness).center(thickness*2)+(c*thickness).center(thickness*6))    \n",
    "\n",
    "#Bottom Cone\n",
    "for i in range(thickness):\n",
    "    print(((c*(thickness-i-1)).rjust(thickness)+c+(c*(thickness-i-1)).ljust(thickness)).rjust(thickness*6))\n"
   ]
  },
  {
   "cell_type": "markdown",
   "id": "b93a3095",
   "metadata": {},
   "source": [
    "# 8. Text Wrap"
   ]
  },
  {
   "cell_type": "code",
   "execution_count": null,
   "id": "09f77c7e",
   "metadata": {},
   "outputs": [],
   "source": [
    "import textwrap\n",
    "\n",
    "def wrap(string, max_width):\n",
    "    a = textwrap.fill(string,max_width)\n",
    "    return a\n",
    "\n",
    "if __name__ == '__main__':\n",
    "    string, max_width = input(), int(input())\n",
    "    result = wrap(string, max_width)\n",
    "    print(result)\n"
   ]
  },
  {
   "cell_type": "markdown",
   "id": "b284be03",
   "metadata": {},
   "source": [
    "# 9. Designer Door Mat\n",
    "\n"
   ]
  },
  {
   "cell_type": "code",
   "execution_count": null,
   "id": "324d5dbe",
   "metadata": {},
   "outputs": [],
   "source": [
    "r,w=map(int,input().split())         # 1st should be odd, 2nd should be 3 times\n",
    "\n",
    "#top frame\n",
    "for i in range(1,r,2): \n",
    "    print(('.|.' * i).center(w, '-'))\n",
    "    \n",
    "#center\n",
    "print(\"WELCOME\".center(w,'-')  )\n",
    "    \n",
    "#bottom frame\n",
    "for i in range(r-2,-1,-2): \n",
    "    print(('.|.' * i).center(w, '-'))\n"
   ]
  },
  {
   "cell_type": "markdown",
   "id": "39fc2fb9",
   "metadata": {},
   "source": [
    "# 10. String Formatting"
   ]
  },
  {
   "cell_type": "code",
   "execution_count": null,
   "id": "dfeb60cd",
   "metadata": {},
   "outputs": [],
   "source": [
    "def print_formatted(number):\n",
    "    # your code goes here\n",
    "    w=len(bin(n))-2\n",
    "    #print decimal, octal, hexadecimal(capitalized), binary\n",
    "    for i in range(1,n+1):\n",
    "        print( str(i).rjust(w), str(oct(i)[2:]).rjust(w), str(hex(i)[2:].upper().rjust(w)), str(bin(i)[2:].rjust(w)) ),\"\\n\"\n",
    "if __name__ == '__main__':\n",
    "    n = int(input())\n",
    "    print_formatted(n)\n"
   ]
  },
  {
   "cell_type": "markdown",
   "id": "a62c0cf2",
   "metadata": {},
   "source": [
    "# 11. Capitalize!\n",
    "\n"
   ]
  },
  {
   "cell_type": "code",
   "execution_count": null,
   "id": "67cd55d0",
   "metadata": {},
   "outputs": [],
   "source": [
    "# Complete the solve function below.\n",
    "def solve(s):\n",
    "    a=[]\n",
    "    a.append(s[0].capitalize())\n",
    "    for i in range(1,len(s)):               #capitalizing first and alphabet after space\n",
    "        if s[i-1] == \" \":\n",
    "            a.append(s[i].capitalize())\n",
    "        else:\n",
    "            a.append(s[i])\n",
    "    a = ''.join(a) \n",
    "    return a\n",
    "\n",
    "if __name__ == '__main__':\n",
    "    fptr = open(os.environ['OUTPUT_PATH'], 'w')\n",
    "    s = input()\n",
    "    result = solve(s)\n",
    "    fptr.write(result + '\\n')\n",
    "    fptr.close()\n"
   ]
  },
  {
   "cell_type": "markdown",
   "id": "1cbb044e",
   "metadata": {},
   "source": [
    "# 12. The Minion Game"
   ]
  },
  {
   "cell_type": "code",
   "execution_count": null,
   "id": "5dac19f9",
   "metadata": {},
   "outputs": [],
   "source": [
    "def minion_game(string):\n",
    "    # your code goes here\n",
    "    count=0\n",
    "    count1=0\n",
    "    vowels=['A','E','I','O','U']\n",
    "    for i in range(len(string)):\n",
    "        if string[i] in vowels:\n",
    "            count += len(string) - i            \n",
    "    #adding length of string and sub the values before that \n",
    "    #to get all the values which can be possible\n",
    "        else:\n",
    "            count1 += len(string) - i\n",
    "            \n",
    "    if count==count1:\n",
    "        print (\"Draw\")\n",
    "    elif count>count1:\n",
    "        print (\"Kevin\", count)\n",
    "    else:\n",
    "        print (\"Stuart\", count1)\n",
    "\n",
    "if __name__ == '__main__':\n",
    "    s = input()\n",
    "    minion_game(s)"
   ]
  },
  {
   "cell_type": "markdown",
   "id": "3344f02b",
   "metadata": {},
   "source": [
    "# 13. Merge the Tools!\n",
    "\n"
   ]
  },
  {
   "cell_type": "code",
   "execution_count": null,
   "id": "cd4725fe",
   "metadata": {},
   "outputs": [],
   "source": [
    "def merge_the_tools(string, k):\n",
    "    # your code goes here\n",
    "    for i in range (len(string)//k):\n",
    "        l =[]\n",
    "        for j in range (k):\n",
    "            s = string[i*k+j]       #taking the values from ith pos\n",
    "            if s not in l:          #checking for duplicate val\n",
    "                l += s\n",
    "        print (''.join(l))\n",
    "\n",
    "if __name__ == '__main__':\n",
    "    string, k = input(), int(input())\n",
    "    merge_the_tools(string, k)"
   ]
  },
  {
   "cell_type": "markdown",
   "id": "458c25e4",
   "metadata": {},
   "source": [
    "# 14. Alphabet Rangoli"
   ]
  },
  {
   "cell_type": "code",
   "execution_count": null,
   "id": "4a46c996",
   "metadata": {},
   "outputs": [],
   "source": [
    "def print_rangoli(size):\n",
    "    # your code goes here\n",
    "    s = 'abcdefghijklmnopqrstuvwxyz'\n",
    "    a = '-'.join(s[:n])\n",
    "    a += '-' * (2 * (n - 1))\n",
    "    b = []\n",
    "    for i in range(n):\n",
    "        b.append(a[-1 - (2 * i):1 - (2 * (n + i)):-1] \n",
    "        + a[2 * (n - i - 1):2 * (n - i - 1)+ 2 * n - 1])\n",
    "        \n",
    "    print('\\n'.join(b))\n",
    "    print('\\n'.join(b[-2::-1]))\n",
    "\n",
    "if __name__ == '__main__':\n",
    "    n = int(input())\n",
    "    print_rangoli(n)"
   ]
  }
 ],
 "metadata": {
  "kernelspec": {
   "display_name": "Python 3",
   "language": "python",
   "name": "python3"
  },
  "language_info": {
   "codemirror_mode": {
    "name": "ipython",
    "version": 3
   },
   "file_extension": ".py",
   "mimetype": "text/x-python",
   "name": "python",
   "nbconvert_exporter": "python",
   "pygments_lexer": "ipython3",
   "version": "3.8.8"
  }
 },
 "nbformat": 4,
 "nbformat_minor": 5
}
