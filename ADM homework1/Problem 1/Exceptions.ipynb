{
 "cells": [
  {
   "cell_type": "markdown",
   "id": "1f6d2d58",
   "metadata": {},
   "source": [
    "# 1. Exceptions"
   ]
  },
  {
   "cell_type": "code",
   "execution_count": null,
   "id": "6b32f3be",
   "metadata": {},
   "outputs": [],
   "source": [
    "# Enter your code here. Read input from STDIN. Print output to STDOUT\n",
    "n = int(input())\n",
    "\n",
    "for i in range(n):\n",
    "    a,b = input().split()\n",
    "    \n",
    "    try : \n",
    "        print(int(int(a)/int(b)))\n",
    "    except ZeroDivisionError as e:\n",
    "        print (\"Error Code: integer division or modulo by zero\")\n",
    "    except ValueError as e:\n",
    "        print (\"Error Code:\", e )"
   ]
  }
 ],
 "metadata": {
  "kernelspec": {
   "display_name": "Python 3",
   "language": "python",
   "name": "python3"
  },
  "language_info": {
   "codemirror_mode": {
    "name": "ipython",
    "version": 3
   },
   "file_extension": ".py",
   "mimetype": "text/x-python",
   "name": "python",
   "nbconvert_exporter": "python",
   "pygments_lexer": "ipython3",
   "version": "3.8.8"
  }
 },
 "nbformat": 4,
 "nbformat_minor": 5
}
