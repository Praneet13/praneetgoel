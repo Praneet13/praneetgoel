{
 "cells": [
  {
   "cell_type": "code",
   "execution_count": null,
   "id": "59506f69",
   "metadata": {},
   "outputs": [],
   "source": [
    "import re\n",
    "from html.parser import HTMLParser"
   ]
  },
  {
   "cell_type": "markdown",
   "id": "3d0b4f48",
   "metadata": {},
   "source": [
    "# 1. Detect Floating Point Number\n",
    "\n"
   ]
  },
  {
   "cell_type": "code",
   "execution_count": null,
   "id": "e79b7b90",
   "metadata": {},
   "outputs": [],
   "source": [
    "for i in range (int(input())):\n",
    "    a = input()\n",
    "    print (bool(re.match(\"[+-]?\\d*\\.\\d*$\",a)))"
   ]
  },
  {
   "cell_type": "markdown",
   "id": "3d884c5d",
   "metadata": {},
   "source": [
    "# 2. Re.split()\n",
    "\n"
   ]
  },
  {
   "cell_type": "code",
   "execution_count": null,
   "id": "b6543eb1",
   "metadata": {},
   "outputs": [],
   "source": [
    "regex_pattern = r'[.,]'\t# Do not delete 'r'.\n",
    "print(\"\\n\".join(re.split(regex_pattern, input())))"
   ]
  },
  {
   "cell_type": "markdown",
   "id": "4e5f0416",
   "metadata": {},
   "source": [
    "# 3. Group(), Groups() & Groupdict()\n",
    "\n"
   ]
  },
  {
   "cell_type": "code",
   "execution_count": null,
   "id": "6379e2eb",
   "metadata": {},
   "outputs": [],
   "source": [
    "# Enter your code here. Read input from STDIN. Print output to STDOUT\n",
    "n = input()\n",
    "a = True\n",
    "for i in range (1, len(n)):\n",
    "    if (n[i] == n[i-1]) and (n[i].isalnum()):   #checking for alphanumeric and consecutive numbers\n",
    "        print (n[i])\n",
    "        a = False\n",
    "        break\n",
    "if a:\n",
    "    print (-1) \n"
   ]
  },
  {
   "cell_type": "markdown",
   "id": "c38ed485",
   "metadata": {},
   "source": [
    "# 4. Re.findall() & Re.finditer()\n",
    "\n"
   ]
  },
  {
   "cell_type": "code",
   "execution_count": null,
   "id": "827d2b35",
   "metadata": {},
   "outputs": [],
   "source": [
    "# Enter your code here. Read input from STDIN. Print output to STDOUT\n",
    "n = input()\n",
    "b = False\n",
    "\n",
    "for i in range (len(n)-1):\n",
    "    for j in range(len(n)):\n",
    "        c = re.match(r\"^[QWRTYPSDFGHJKLZXCVBNMqwrtypsdfghjklzxcvbnm][AEIOUaeiou]{2,}[QWRTYPSDFGHJKLZXCVBNMqwrtypsdfghjklzxcvbnm]$\",n[i:j+1])    #getting vowels as required\n",
    "        if c != None:\n",
    "            print (n[i+1:j])        #printing vowels\n",
    "            b = True\n",
    "if b == False:\n",
    "    print (\"-1\")"
   ]
  },
  {
   "cell_type": "markdown",
   "id": "36d3fb0c",
   "metadata": {},
   "source": [
    "# 5. Re.start() & Re.end()\n",
    "\n"
   ]
  },
  {
   "cell_type": "code",
   "execution_count": null,
   "id": "b2e1a8e1",
   "metadata": {},
   "outputs": [],
   "source": [
    "# Enter your code here. Read input from STDIN. Print output to STDOUT\n",
    "n = input()\n",
    "m = input()\n",
    "a = True\n",
    "for i in range (len(n)-len(m)+1):       \n",
    "    if m == n[i:i+len(m)]:              #checking for m in n\n",
    "        print ((i,i+len(m)-1))          \n",
    "        a = False\n",
    "if a:\n",
    "    print ((-1,-1))     #using double brackets to print as a tuple"
   ]
  },
  {
   "cell_type": "markdown",
   "id": "a41ba529",
   "metadata": {},
   "source": [
    "# 6. Regex Substitution\n",
    "\n"
   ]
  },
  {
   "cell_type": "code",
   "execution_count": null,
   "id": "4ee790bc",
   "metadata": {},
   "outputs": [],
   "source": [
    "# Enter your code here. Read input from STDIN. Print output to STDOUT\n",
    "for i in range (int(input())):\n",
    "    a = input()\n",
    "    for j in range (len(a)):\n",
    "        a = a.replace(\" || \",\" or \").replace(\" && \",\" and \")\n",
    "    print (a)"
   ]
  },
  {
   "cell_type": "markdown",
   "id": "3a3bc7d1",
   "metadata": {},
   "source": [
    "# 7. Validating Roman Numerals"
   ]
  },
  {
   "cell_type": "code",
   "execution_count": null,
   "id": "2d65d244",
   "metadata": {},
   "outputs": [],
   "source": [
    "regex_pattern = r\"^M{0,3}(CM|CD|D?C{0,3})(XC|XL|L?X{0,3})(IX|IV|V?I{0,3})$\"\t# Do not delete 'r'.\n",
    "#checking for range 1000-3000, then 100-999, then 10-99, then 0-9\n",
    "print(str(bool(re.match(regex_pattern, input()))))"
   ]
  },
  {
   "cell_type": "markdown",
   "id": "7a8a0c9c",
   "metadata": {},
   "source": [
    "# 8. Validating phone numbers\n",
    "\n"
   ]
  },
  {
   "cell_type": "code",
   "execution_count": null,
   "id": "bcc30e88",
   "metadata": {},
   "outputs": [],
   "source": [
    "# Enter your code here. Read input from STDIN. Print output to STDOUT\n",
    "for i in range (int(input())):\n",
    "    s = input()\n",
    "    x = bool(re.search(\"^[789][0-9]{9}$\",s))  #checking 1st digit as \"7,8 or 9\", then matching exactly 9 times\n",
    "    if x:\n",
    "        print(\"YES\")\n",
    "    else:\n",
    "        print(\"NO\")"
   ]
  },
  {
   "cell_type": "markdown",
   "id": "75fa83f2",
   "metadata": {},
   "source": [
    "# 9. Validating and Parsing Email Addresses\n",
    "\n"
   ]
  },
  {
   "cell_type": "code",
   "execution_count": null,
   "id": "72c2a117",
   "metadata": {},
   "outputs": [],
   "source": [
    "# Enter your code here. Read input from STDIN. Print output to STDOUT\n",
    "for i in range(int(input())):\n",
    "    a,b = input().split()\n",
    "    x = re.match(r\"^<[(a-z]{1}[a-zA-z0-9-._]*@[a-zA-Z]+\\.[a-zA-Z]{1,3}>$\",b)   #matching the first as character, then alphanumeric till @, then domain as alpha till ., then extension as alpha (3 char only)\n",
    "    if x:\n",
    "        print (a,b)"
   ]
  },
  {
   "cell_type": "markdown",
   "id": "4d2c35ee",
   "metadata": {},
   "source": [
    "# 10. Hex Color Code\n",
    "\n"
   ]
  },
  {
   "cell_type": "code",
   "execution_count": null,
   "id": "fa2129d2",
   "metadata": {},
   "outputs": [],
   "source": [
    "# Enter your code here. Read input from STDIN. Print output to STDOUT\n",
    "for i in range(int(input())):\n",
    "    s = input()\n",
    "    x = re.findall(\"\\#[0-9a-fA-F]{3,6}[^\\s]\",s)     #taking hex from 3-6 values, then checking for not a whitespace\n",
    "    \n",
    "    for i in x:\n",
    "        print (i[:-1])      #printing till 2nd last value as we took a whitespace in re "
   ]
  },
  {
   "cell_type": "markdown",
   "id": "3d35bd54",
   "metadata": {},
   "source": [
    "# 11. HTML Parser - Part 1\n",
    "\n"
   ]
  },
  {
   "cell_type": "code",
   "execution_count": null,
   "id": "42f25a31",
   "metadata": {},
   "outputs": [],
   "source": [
    "# Enter your code here. Read input from STDIN. Print output to STDOUT\n",
    "class MyHTMLParser(HTMLParser):\n",
    "    #starttag\n",
    "    def handle_starttag(self, tag, attrs):        \n",
    "        print ('Start :',tag)\n",
    "        for a in attrs:\n",
    "            print ('->',a[0],'>',a[1])\n",
    "    #endtag       \n",
    "    def handle_endtag(self, tag):\n",
    "        print ('End   :',tag)\n",
    "    #startendtag  \n",
    "    def handle_startendtag(self, tag, attrs):\n",
    "        print ('Empty :',tag)\n",
    "        for a in attrs:\n",
    "            print ('->',a[0],'>',a[1])\n",
    "            \n",
    "MyParser = MyHTMLParser()\n",
    "MyParser.feed(''.join([input().strip() for i in range(int(input()))]))"
   ]
  },
  {
   "cell_type": "markdown",
   "id": "97d83dc3",
   "metadata": {},
   "source": [
    "# 12. HTML Parser - Part 2\n",
    "\n"
   ]
  },
  {
   "cell_type": "code",
   "execution_count": null,
   "id": "40565201",
   "metadata": {},
   "outputs": [],
   "source": [
    "class MyHTMLParser(HTMLParser):\n",
    "    def handle_comment(self, data):\n",
    "        if data != '\\n':\n",
    "            if '\\n' not in data:\n",
    "                print(\">>> Single-line Comment\")\n",
    "                print(data)\n",
    "            else:\n",
    "                print(\">>> Multi-line Comment\")\n",
    "                print(data)\n",
    "                    \n",
    "    def handle_data(self, data):\n",
    "        if data != '\\n':\n",
    "            print(\">>> Data\")\n",
    "            print(data) \n",
    "  \n",
    "html = \"\"       \n",
    "for i in range(int(input())):\n",
    "    html += input().rstrip()\n",
    "    html += '\\n'\n",
    "    \n",
    "parser = MyHTMLParser()\n",
    "parser.feed(html)\n",
    "parser.close() "
   ]
  },
  {
   "cell_type": "markdown",
   "id": "078612c0",
   "metadata": {},
   "source": [
    "# 13. Detect HTML Tags, Attributes and Attribute Values\n",
    "\n"
   ]
  },
  {
   "cell_type": "code",
   "execution_count": null,
   "id": "87ea1dfa",
   "metadata": {},
   "outputs": [],
   "source": [
    "# Enter your code here. Read input from STDIN. Print output to STDOUT\n",
    "from html.parser import HTMLParser\n",
    "\n",
    "class MyHtmlParser(HTMLParser):\n",
    "    #start\n",
    "    def handle_starttag(self,tag,attrs):\n",
    "        print(tag)\n",
    "        for a in attrs:\n",
    "            print(\"-> {} > {}\".format(a[0],a[1]))\n",
    "    #startend\n",
    "    def handle_startendtag(self,tag,attrs):\n",
    "        print(tag)\n",
    "        for a in attrs:\n",
    "            print(\"-> {} > {}\".format(a[0],a[1]))\n",
    "                   \n",
    "html=\"\"\n",
    "t=int(input())\n",
    "for i in range(t):\n",
    "    html+=input().rstrip()\n",
    "    html+='\\n'     \n",
    "\n",
    "parser=MyHtmlParser()    \n",
    "parser.feed(html)\n",
    "parser.close()"
   ]
  },
  {
   "cell_type": "markdown",
   "id": "91c4d3ba",
   "metadata": {},
   "source": [
    "# 14. Validating UID"
   ]
  },
  {
   "cell_type": "code",
   "execution_count": null,
   "id": "7b8ca3a2",
   "metadata": {},
   "outputs": [],
   "source": [
    "# Enter your code here. Read input from STDIN. Print output to STDOUT\n",
    "for i in range(int(input())):\n",
    "    uid=''.join(sorted(input()))\n",
    "    try:\n",
    "        assert re.search(r'[A-Z]{2}', uid)\n",
    "        assert re.search(r'\\d\\d\\d', uid)\n",
    "        assert not re.search(r'[^a-zA-Z0-9]', uid)\n",
    "        assert not re.search(r'(.)\\1', uid)\n",
    "        assert len(uid) == 10\n",
    "    except:\n",
    "        print('Invalid')\n",
    "    else:\n",
    "        print('Valid')"
   ]
  },
  {
   "cell_type": "markdown",
   "id": "af8be1c5",
   "metadata": {},
   "source": [
    "# 15. Validating Credit Card Numbers\n",
    "\n"
   ]
  },
  {
   "cell_type": "code",
   "execution_count": null,
   "id": "67127615",
   "metadata": {},
   "outputs": [],
   "source": [
    "tests=re.compile(\n",
    "    r\"^\"\n",
    "    r\"(?!.*(\\d)(-?\\1){3})\"\n",
    "    r\"[456]\"\n",
    "    r\"\\d{3}\"\n",
    "    r\"(?:-?\\d{4}){3}\"\n",
    "    r\"$\")\n",
    "for i in range(int(input().strip())):\n",
    "    print(\"Valid\" if tests.search(input().strip()) else \"Invalid\")"
   ]
  },
  {
   "cell_type": "markdown",
   "id": "a0006445",
   "metadata": {},
   "source": [
    "# 16. Validating Postal Codes\n",
    "\n"
   ]
  },
  {
   "cell_type": "code",
   "execution_count": null,
   "id": "94ae08ed",
   "metadata": {},
   "outputs": [],
   "source": [
    "regex_integer_in_range = r\"^[1-9][0-9]{5}$\"\t# Do not delete 'r'.\n",
    "regex_alternating_repetitive_digit_pair = r\"(\\d)(?=\\d\\1)\"\t# Do not delete 'r'.\n",
    "#regex_integer_in_range, checking for range 100000-99999\n",
    "#regex_alternating_repetitive_digit_pair, checking for a repetition\n",
    "\n",
    "import re\n",
    "P = input()\n",
    "\n",
    "print (bool(re.match(regex_integer_in_range, P)) \n",
    "and len(re.findall(regex_alternating_repetitive_digit_pair, P)) < 2)"
   ]
  },
  {
   "cell_type": "markdown",
   "id": "1b0654e1",
   "metadata": {},
   "source": [
    "# 17. Matrix Script\n",
    "\n"
   ]
  },
  {
   "cell_type": "code",
   "execution_count": null,
   "id": "aeb43740",
   "metadata": {},
   "outputs": [],
   "source": [
    "#!/bin/python3\n",
    "\n",
    "first_multiple_input = input().rstrip().split()\n",
    "n = int(first_multiple_input[0])\n",
    "m = int(first_multiple_input[1])\n",
    "matrix = []\n",
    "for _ in range(n):\n",
    "    matrix_item = input()\n",
    "    matrix.append(matrix_item)  #appending inputs in a single list\n",
    "\n",
    "matrix=list(zip(*matrix))   #zipping the list\n",
    "\n",
    "s=''\n",
    "for i in matrix:\n",
    "    s+=''.join(i)\n",
    "    \n",
    "    #check and print alnum with a single space ''\n",
    "s=re.sub(r'\\b[^a-zA-z0-9]+\\b',r' ',s) \n",
    "print(s)"
   ]
  }
 ],
 "metadata": {
  "kernelspec": {
   "display_name": "Python 3",
   "language": "python",
   "name": "python3"
  },
  "language_info": {
   "codemirror_mode": {
    "name": "ipython",
    "version": 3
   },
   "file_extension": ".py",
   "mimetype": "text/x-python",
   "name": "python",
   "nbconvert_exporter": "python",
   "pygments_lexer": "ipython3",
   "version": "3.8.8"
  }
 },
 "nbformat": 4,
 "nbformat_minor": 5
}
