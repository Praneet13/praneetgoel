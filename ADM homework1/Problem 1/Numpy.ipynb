{
 "cells": [
  {
   "cell_type": "code",
   "execution_count": null,
   "id": "8bd9ae78",
   "metadata": {},
   "outputs": [],
   "source": [
    "import numpy as np"
   ]
  },
  {
   "cell_type": "markdown",
   "id": "c6761047",
   "metadata": {},
   "source": [
    "# 1. Arrays"
   ]
  },
  {
   "cell_type": "code",
   "execution_count": null,
   "id": "31e33484",
   "metadata": {},
   "outputs": [],
   "source": [
    "def arrays(arr):\n",
    "    # complete this function\n",
    "    # use numpy.array\n",
    "    b = np.array(arr[::-1],float) #reversed, converted to float\n",
    "    return b\n",
    "\n",
    "arr = input().strip().split(' ')\n",
    "result = arrays(arr)\n",
    "print(result)"
   ]
  },
  {
   "cell_type": "markdown",
   "id": "a958598b",
   "metadata": {},
   "source": [
    "# 2. Shape and Reshape\n",
    "\n"
   ]
  },
  {
   "cell_type": "code",
   "execution_count": null,
   "id": "557edcd8",
   "metadata": {},
   "outputs": [],
   "source": [
    "a = map(int,input().split())    #taking input\n",
    "arr = np.array(list(a))         #converting to an array\n",
    "print (np.reshape(arr,(3,3)))"
   ]
  },
  {
   "cell_type": "markdown",
   "id": "064933da",
   "metadata": {},
   "source": [
    "# 3. Transpose and Flatten"
   ]
  },
  {
   "cell_type": "code",
   "execution_count": null,
   "id": "49401fb9",
   "metadata": {},
   "outputs": [],
   "source": [
    "n,m = map(int,input().split())\n",
    "a = []\n",
    "for i in range (n):\n",
    "    a += list(map(int,input().split()))\n",
    "\n",
    "arr = np.array(a)           #creating array\n",
    "arr.shape = (n,m)           #shaping it to n*m\n",
    "print (np.transpose(arr))   #transposing array\n",
    "print (arr.flatten())       #flatten array"
   ]
  },
  {
   "cell_type": "markdown",
   "id": "700f05f3",
   "metadata": {},
   "source": [
    "# 4. Concatenate\n",
    "\n"
   ]
  },
  {
   "cell_type": "code",
   "execution_count": null,
   "id": "6f12170c",
   "metadata": {},
   "outputs": [],
   "source": [
    "n,m,p = map(int,input().split())\n",
    "a = []\n",
    "for i in range(n+m):        #concatenating \n",
    "    a += list(map(int,input().split()))\n",
    "a = np.array(a)             #conversion to array\n",
    "print(np.reshape(a,(m+n,p))) "
   ]
  },
  {
   "cell_type": "markdown",
   "id": "75d78085",
   "metadata": {},
   "source": [
    "# 5. Zeros and Ones"
   ]
  },
  {
   "cell_type": "code",
   "execution_count": null,
   "id": "00209f63",
   "metadata": {},
   "outputs": [],
   "source": [
    "a = tuple(map(int,input().split()))\n",
    "print(np.zeros(a, dtype = np.int))  #giving size and dimensions at a same time (rows,columns,size)\n",
    "print(np.ones(a, dtype = np.int))"
   ]
  },
  {
   "cell_type": "markdown",
   "id": "87bd2b1c",
   "metadata": {},
   "source": [
    "# 6. Eye and Identity\n",
    "\n"
   ]
  },
  {
   "cell_type": "code",
   "execution_count": null,
   "id": "285c555f",
   "metadata": {},
   "outputs": [],
   "source": [
    "np.set_printoptions(legacy='1.13')\n",
    "a,b = input().split() \n",
    "print (np.eye(int(a),int(b))) #eye matrix a*b"
   ]
  },
  {
   "cell_type": "markdown",
   "id": "57cd97c5",
   "metadata": {},
   "source": [
    "# 7. Array Mathematics\n",
    "\n"
   ]
  },
  {
   "cell_type": "code",
   "execution_count": null,
   "id": "8e93797e",
   "metadata": {},
   "outputs": [],
   "source": [
    "n,m=map(int,input().split())\n",
    "a=np.array([list(map(int,input().split())) for i in range(n)])\n",
    "b=np.array([list(map(int,input().split())) for i in range(n)])\n",
    "print(a+b, a-b, a*b, a//b, a%b, a**b, sep='\\n')\n",
    "#Add, Subtract, Multiply, Integer Division, Mod, Power"
   ]
  },
  {
   "cell_type": "markdown",
   "id": "84c6fbc4",
   "metadata": {},
   "source": [
    "# 8. Floor, Ceil and Rint\n",
    "\n"
   ]
  },
  {
   "cell_type": "code",
   "execution_count": null,
   "id": "5a5864d8",
   "metadata": {},
   "outputs": [],
   "source": [
    "np.set_printoptions(legacy='1.13')\n",
    "a = np.array(list(map(float,input().split())))\n",
    "#print floor, ceil and rint of array a\n",
    "print (np.floor(a), np.ceil(a), np.rint(a), sep = '\\n') "
   ]
  },
  {
   "cell_type": "markdown",
   "id": "2b712b26",
   "metadata": {},
   "source": [
    "# 9. Sum and Prod"
   ]
  },
  {
   "cell_type": "code",
   "execution_count": null,
   "id": "fdef2b2d",
   "metadata": {},
   "outputs": [],
   "source": [
    "n, m = map(int, input().split())\n",
    "a = []\n",
    "for i in range(n):\n",
    "    a.append(list(map(int,input().split())))\n",
    "print (np.prod(np.sum(a,axis=0)))    #taking sum at axis=0, then product"
   ]
  },
  {
   "cell_type": "markdown",
   "id": "4ea1a0d7",
   "metadata": {},
   "source": [
    "# 10. Min and Max\n",
    "\n"
   ]
  },
  {
   "cell_type": "code",
   "execution_count": null,
   "id": "d303a83a",
   "metadata": {},
   "outputs": [],
   "source": [
    "n,m = map(int,input().split())\n",
    "a = []\n",
    "for i in range(int (n)):\n",
    "    a.append(list(map(int,input().split())))\n",
    "print(np.max(np.min(a, axis=1)))    #min along axis=1, then max"
   ]
  },
  {
   "cell_type": "markdown",
   "id": "0d59f85f",
   "metadata": {},
   "source": [
    "# 11. Mean, Var, and Std\n",
    "\n"
   ]
  },
  {
   "cell_type": "code",
   "execution_count": null,
   "id": "dac8ace5",
   "metadata": {},
   "outputs": [],
   "source": [
    "n,m = map(int,input().split())\n",
    "a = []\n",
    "for i in range (n):\n",
    "    a.append(list(map(int,input().split())))\n",
    "a = np.array(a)\n",
    "print (np.mean(a,axis=1))       #mean along axis=1\n",
    "print (np.var(a,axis=0))        #variance along axis=0\n",
    "print (np.round(np.std(a,axis=None),11))     #standard deviation along axis=None, then round upto 11 decimal places"
   ]
  },
  {
   "cell_type": "markdown",
   "id": "42a80237",
   "metadata": {},
   "source": [
    "# 12. Dot and Cross\n",
    "\n"
   ]
  },
  {
   "cell_type": "code",
   "execution_count": null,
   "id": "d62ac8a0",
   "metadata": {},
   "outputs": [],
   "source": [
    "n= int(input())\n",
    "a = []\n",
    "b = []\n",
    "for i in range(n):\n",
    "    a.append(list(map(int,input().split())))\n",
    "for i in range(n):\n",
    "    b.append(list(map(int,input().split())))\n",
    "print(np.dot(a,b))      #Multiplication or Dot product"
   ]
  },
  {
   "cell_type": "markdown",
   "id": "50a218cf",
   "metadata": {},
   "source": [
    "# 13. Inner and Outer\n",
    "\n"
   ]
  },
  {
   "cell_type": "code",
   "execution_count": null,
   "id": "f3e9f6dc",
   "metadata": {},
   "outputs": [],
   "source": [
    "a = np.array(list(map(int,input().split())))\n",
    "b = np.array(list(map(int,input().split())))\n",
    "print (np.inner(a,b), np.outer(a,b), sep = '\\n') #inner and outer product, seperated by a new line"
   ]
  },
  {
   "cell_type": "markdown",
   "id": "20be3db0",
   "metadata": {},
   "source": [
    "# 14. Polynomials\n",
    "\n"
   ]
  },
  {
   "cell_type": "code",
   "execution_count": null,
   "id": "20059faa",
   "metadata": {},
   "outputs": [],
   "source": [
    "#using polyval to find value of P at point x\n",
    "print (np.polyval(list(map(float,input().split())),float(input())))"
   ]
  },
  {
   "cell_type": "markdown",
   "id": "ecdd6607",
   "metadata": {},
   "source": [
    "# 15. Linear Algebra"
   ]
  },
  {
   "cell_type": "code",
   "execution_count": null,
   "id": "f76b4339",
   "metadata": {},
   "outputs": [],
   "source": [
    "a = []\n",
    "for i in range(int(input())):\n",
    "    a.append(list(map(float,input().split())))\n",
    "a = np.array(a)\n",
    "print (np.round(np.linalg.det(a),2)) #determinant of A, round upto 2 decimal places"
   ]
  }
 ],
 "metadata": {
  "kernelspec": {
   "display_name": "Python 3",
   "language": "python",
   "name": "python3"
  },
  "language_info": {
   "codemirror_mode": {
    "name": "ipython",
    "version": 3
   },
   "file_extension": ".py",
   "mimetype": "text/x-python",
   "name": "python",
   "nbconvert_exporter": "python",
   "pygments_lexer": "ipython3",
   "version": "3.8.8"
  }
 },
 "nbformat": 4,
 "nbformat_minor": 5
}
